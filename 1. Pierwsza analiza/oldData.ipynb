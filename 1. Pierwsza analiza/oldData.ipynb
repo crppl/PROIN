{
 "cells": [
  {
   "cell_type": "code",
   "execution_count": 24,
   "id": "59819e0d",
   "metadata": {},
   "outputs": [],
   "source": [
    "import numpy as np\n",
    "import pandas as pd\n",
    "import seaborn as sns\n",
    "import matplotlib.pyplot as plt\n",
    "import math\n",
    "\n",
    "from sklearn.model_selection import train_test_split, cross_val_score, GridSearchCV\n",
    "from sklearn.preprocessing import OneHotEncoder, OrdinalEncoder\n",
    "#from sklearn.neighbors import NearestNeighbors\n",
    "from sklearn.neighbors import KNeighborsClassifier\n",
    "from sklearn.neighbors import NearestCentroid\n",
    "#from sklearn.naive_bayes import GaussianNB\n",
    "from sklearn.linear_model import LinearRegression\n",
    "from sklearn.linear_model import Ridge, Lasso, ElasticNet\n",
    "from sklearn import svm\n",
    "from sklearn.ensemble import RandomForestRegressor, GradientBoostingRegressor, AdaBoostRegressor, HistGradientBoostingRegressor\n",
    "from sklearn.ensemble import RandomForestClassifier, GradientBoostingClassifier, AdaBoostClassifier, HistGradientBoostingClassifier\n",
    "from sklearn.metrics import confusion_matrix, classification_report\n",
    "from sklearn import metrics\n",
    "from sklearn import tree"
   ]
  },
  {
   "cell_type": "markdown",
   "id": "33877070",
   "metadata": {},
   "source": [
    "# Obróbka danych\n"
   ]
  },
  {
   "cell_type": "markdown",
   "id": "b6213c6c",
   "metadata": {},
   "source": []
  },
  {
   "cell_type": "markdown",
   "id": "6397c8c1",
   "metadata": {},
   "source": [
    "## wczytanie"
   ]
  },
  {
   "cell_type": "code",
   "execution_count": 25,
   "id": "d3991199",
   "metadata": {},
   "outputs": [
    {
     "data": {
      "text/html": [
       "<div>\n",
       "<style scoped>\n",
       "    .dataframe tbody tr th:only-of-type {\n",
       "        vertical-align: middle;\n",
       "    }\n",
       "\n",
       "    .dataframe tbody tr th {\n",
       "        vertical-align: top;\n",
       "    }\n",
       "\n",
       "    .dataframe thead th {\n",
       "        text-align: right;\n",
       "    }\n",
       "</style>\n",
       "<table border=\"1\" class=\"dataframe\">\n",
       "  <thead>\n",
       "    <tr style=\"text-align: right;\">\n",
       "      <th></th>\n",
       "      <th>brand</th>\n",
       "      <th>processor_brand</th>\n",
       "      <th>processor_name</th>\n",
       "      <th>processor_gnrtn</th>\n",
       "      <th>ram_gb</th>\n",
       "      <th>ram_type</th>\n",
       "      <th>ssd</th>\n",
       "      <th>hdd</th>\n",
       "      <th>os</th>\n",
       "      <th>os_bit</th>\n",
       "      <th>graphic_card_gb</th>\n",
       "      <th>weight</th>\n",
       "      <th>warranty</th>\n",
       "      <th>Touchscreen</th>\n",
       "      <th>msoffice</th>\n",
       "      <th>Price</th>\n",
       "      <th>rating</th>\n",
       "      <th>Number of Ratings</th>\n",
       "    </tr>\n",
       "  </thead>\n",
       "  <tbody>\n",
       "    <tr>\n",
       "      <th>0</th>\n",
       "      <td>ASUS</td>\n",
       "      <td>Intel</td>\n",
       "      <td>Core i3</td>\n",
       "      <td>10th</td>\n",
       "      <td>4 GB</td>\n",
       "      <td>DDR4</td>\n",
       "      <td>0 GB</td>\n",
       "      <td>1024 GB</td>\n",
       "      <td>Windows</td>\n",
       "      <td>64-bit</td>\n",
       "      <td>0 GB</td>\n",
       "      <td>Casual</td>\n",
       "      <td>No warranty</td>\n",
       "      <td>No</td>\n",
       "      <td>No</td>\n",
       "      <td>34649</td>\n",
       "      <td>2 stars</td>\n",
       "      <td>3</td>\n",
       "    </tr>\n",
       "    <tr>\n",
       "      <th>1</th>\n",
       "      <td>Lenovo</td>\n",
       "      <td>Intel</td>\n",
       "      <td>Core i3</td>\n",
       "      <td>10th</td>\n",
       "      <td>4 GB</td>\n",
       "      <td>DDR4</td>\n",
       "      <td>0 GB</td>\n",
       "      <td>1024 GB</td>\n",
       "      <td>Windows</td>\n",
       "      <td>64-bit</td>\n",
       "      <td>0 GB</td>\n",
       "      <td>Casual</td>\n",
       "      <td>No warranty</td>\n",
       "      <td>No</td>\n",
       "      <td>No</td>\n",
       "      <td>38999</td>\n",
       "      <td>3 stars</td>\n",
       "      <td>65</td>\n",
       "    </tr>\n",
       "    <tr>\n",
       "      <th>2</th>\n",
       "      <td>Lenovo</td>\n",
       "      <td>Intel</td>\n",
       "      <td>Core i3</td>\n",
       "      <td>10th</td>\n",
       "      <td>4 GB</td>\n",
       "      <td>DDR4</td>\n",
       "      <td>0 GB</td>\n",
       "      <td>1024 GB</td>\n",
       "      <td>Windows</td>\n",
       "      <td>64-bit</td>\n",
       "      <td>0 GB</td>\n",
       "      <td>Casual</td>\n",
       "      <td>No warranty</td>\n",
       "      <td>No</td>\n",
       "      <td>No</td>\n",
       "      <td>39999</td>\n",
       "      <td>3 stars</td>\n",
       "      <td>8</td>\n",
       "    </tr>\n",
       "    <tr>\n",
       "      <th>3</th>\n",
       "      <td>ASUS</td>\n",
       "      <td>Intel</td>\n",
       "      <td>Core i5</td>\n",
       "      <td>10th</td>\n",
       "      <td>8 GB</td>\n",
       "      <td>DDR4</td>\n",
       "      <td>512 GB</td>\n",
       "      <td>0 GB</td>\n",
       "      <td>Windows</td>\n",
       "      <td>32-bit</td>\n",
       "      <td>2 GB</td>\n",
       "      <td>Casual</td>\n",
       "      <td>No warranty</td>\n",
       "      <td>No</td>\n",
       "      <td>No</td>\n",
       "      <td>69990</td>\n",
       "      <td>3 stars</td>\n",
       "      <td>0</td>\n",
       "    </tr>\n",
       "    <tr>\n",
       "      <th>4</th>\n",
       "      <td>ASUS</td>\n",
       "      <td>Intel</td>\n",
       "      <td>Celeron Dual</td>\n",
       "      <td>Not Available</td>\n",
       "      <td>4 GB</td>\n",
       "      <td>DDR4</td>\n",
       "      <td>0 GB</td>\n",
       "      <td>512 GB</td>\n",
       "      <td>Windows</td>\n",
       "      <td>64-bit</td>\n",
       "      <td>0 GB</td>\n",
       "      <td>Casual</td>\n",
       "      <td>No warranty</td>\n",
       "      <td>No</td>\n",
       "      <td>No</td>\n",
       "      <td>26990</td>\n",
       "      <td>3 stars</td>\n",
       "      <td>0</td>\n",
       "    </tr>\n",
       "    <tr>\n",
       "      <th>...</th>\n",
       "      <td>...</td>\n",
       "      <td>...</td>\n",
       "      <td>...</td>\n",
       "      <td>...</td>\n",
       "      <td>...</td>\n",
       "      <td>...</td>\n",
       "      <td>...</td>\n",
       "      <td>...</td>\n",
       "      <td>...</td>\n",
       "      <td>...</td>\n",
       "      <td>...</td>\n",
       "      <td>...</td>\n",
       "      <td>...</td>\n",
       "      <td>...</td>\n",
       "      <td>...</td>\n",
       "      <td>...</td>\n",
       "      <td>...</td>\n",
       "      <td>...</td>\n",
       "    </tr>\n",
       "    <tr>\n",
       "      <th>818</th>\n",
       "      <td>ASUS</td>\n",
       "      <td>AMD</td>\n",
       "      <td>Ryzen 9</td>\n",
       "      <td>Not Available</td>\n",
       "      <td>4 GB</td>\n",
       "      <td>DDR4</td>\n",
       "      <td>1024 GB</td>\n",
       "      <td>0 GB</td>\n",
       "      <td>Windows</td>\n",
       "      <td>64-bit</td>\n",
       "      <td>0 GB</td>\n",
       "      <td>Casual</td>\n",
       "      <td>1 year</td>\n",
       "      <td>No</td>\n",
       "      <td>No</td>\n",
       "      <td>135990</td>\n",
       "      <td>3 stars</td>\n",
       "      <td>0</td>\n",
       "    </tr>\n",
       "    <tr>\n",
       "      <th>819</th>\n",
       "      <td>ASUS</td>\n",
       "      <td>AMD</td>\n",
       "      <td>Ryzen 9</td>\n",
       "      <td>Not Available</td>\n",
       "      <td>4 GB</td>\n",
       "      <td>DDR4</td>\n",
       "      <td>1024 GB</td>\n",
       "      <td>0 GB</td>\n",
       "      <td>Windows</td>\n",
       "      <td>64-bit</td>\n",
       "      <td>0 GB</td>\n",
       "      <td>Casual</td>\n",
       "      <td>1 year</td>\n",
       "      <td>No</td>\n",
       "      <td>No</td>\n",
       "      <td>144990</td>\n",
       "      <td>3 stars</td>\n",
       "      <td>0</td>\n",
       "    </tr>\n",
       "    <tr>\n",
       "      <th>820</th>\n",
       "      <td>ASUS</td>\n",
       "      <td>AMD</td>\n",
       "      <td>Ryzen 9</td>\n",
       "      <td>Not Available</td>\n",
       "      <td>4 GB</td>\n",
       "      <td>DDR4</td>\n",
       "      <td>1024 GB</td>\n",
       "      <td>0 GB</td>\n",
       "      <td>Windows</td>\n",
       "      <td>64-bit</td>\n",
       "      <td>4 GB</td>\n",
       "      <td>Casual</td>\n",
       "      <td>1 year</td>\n",
       "      <td>No</td>\n",
       "      <td>No</td>\n",
       "      <td>149990</td>\n",
       "      <td>3 stars</td>\n",
       "      <td>0</td>\n",
       "    </tr>\n",
       "    <tr>\n",
       "      <th>821</th>\n",
       "      <td>ASUS</td>\n",
       "      <td>AMD</td>\n",
       "      <td>Ryzen 9</td>\n",
       "      <td>Not Available</td>\n",
       "      <td>4 GB</td>\n",
       "      <td>DDR4</td>\n",
       "      <td>1024 GB</td>\n",
       "      <td>0 GB</td>\n",
       "      <td>Windows</td>\n",
       "      <td>64-bit</td>\n",
       "      <td>4 GB</td>\n",
       "      <td>Casual</td>\n",
       "      <td>1 year</td>\n",
       "      <td>No</td>\n",
       "      <td>No</td>\n",
       "      <td>142990</td>\n",
       "      <td>3 stars</td>\n",
       "      <td>0</td>\n",
       "    </tr>\n",
       "    <tr>\n",
       "      <th>822</th>\n",
       "      <td>Lenovo</td>\n",
       "      <td>AMD</td>\n",
       "      <td>Ryzen 5</td>\n",
       "      <td>10th</td>\n",
       "      <td>8 GB</td>\n",
       "      <td>DDR4</td>\n",
       "      <td>512 GB</td>\n",
       "      <td>0 GB</td>\n",
       "      <td>DOS</td>\n",
       "      <td>64-bit</td>\n",
       "      <td>0 GB</td>\n",
       "      <td>ThinNlight</td>\n",
       "      <td>No warranty</td>\n",
       "      <td>No</td>\n",
       "      <td>No</td>\n",
       "      <td>57490</td>\n",
       "      <td>4 stars</td>\n",
       "      <td>18</td>\n",
       "    </tr>\n",
       "  </tbody>\n",
       "</table>\n",
       "<p>823 rows × 18 columns</p>\n",
       "</div>"
      ],
      "text/plain": [
       "      brand processor_brand processor_name processor_gnrtn ram_gb ram_type  \\\n",
       "0      ASUS           Intel        Core i3            10th   4 GB     DDR4   \n",
       "1    Lenovo           Intel        Core i3            10th   4 GB     DDR4   \n",
       "2    Lenovo           Intel        Core i3            10th   4 GB     DDR4   \n",
       "3      ASUS           Intel        Core i5            10th   8 GB     DDR4   \n",
       "4      ASUS           Intel   Celeron Dual   Not Available   4 GB     DDR4   \n",
       "..      ...             ...            ...             ...    ...      ...   \n",
       "818    ASUS             AMD        Ryzen 9   Not Available   4 GB     DDR4   \n",
       "819    ASUS             AMD        Ryzen 9   Not Available   4 GB     DDR4   \n",
       "820    ASUS             AMD        Ryzen 9   Not Available   4 GB     DDR4   \n",
       "821    ASUS             AMD        Ryzen 9   Not Available   4 GB     DDR4   \n",
       "822  Lenovo             AMD        Ryzen 5            10th   8 GB     DDR4   \n",
       "\n",
       "         ssd      hdd       os  os_bit graphic_card_gb      weight  \\\n",
       "0       0 GB  1024 GB  Windows  64-bit            0 GB      Casual   \n",
       "1       0 GB  1024 GB  Windows  64-bit            0 GB      Casual   \n",
       "2       0 GB  1024 GB  Windows  64-bit            0 GB      Casual   \n",
       "3     512 GB     0 GB  Windows  32-bit            2 GB      Casual   \n",
       "4       0 GB   512 GB  Windows  64-bit            0 GB      Casual   \n",
       "..       ...      ...      ...     ...             ...         ...   \n",
       "818  1024 GB     0 GB  Windows  64-bit            0 GB      Casual   \n",
       "819  1024 GB     0 GB  Windows  64-bit            0 GB      Casual   \n",
       "820  1024 GB     0 GB  Windows  64-bit            4 GB      Casual   \n",
       "821  1024 GB     0 GB  Windows  64-bit            4 GB      Casual   \n",
       "822   512 GB     0 GB      DOS  64-bit            0 GB  ThinNlight   \n",
       "\n",
       "        warranty Touchscreen msoffice   Price   rating  Number of Ratings  \n",
       "0    No warranty          No       No   34649  2 stars                  3  \n",
       "1    No warranty          No       No   38999  3 stars                 65  \n",
       "2    No warranty          No       No   39999  3 stars                  8  \n",
       "3    No warranty          No       No   69990  3 stars                  0  \n",
       "4    No warranty          No       No   26990  3 stars                  0  \n",
       "..           ...         ...      ...     ...      ...                ...  \n",
       "818       1 year          No       No  135990  3 stars                  0  \n",
       "819       1 year          No       No  144990  3 stars                  0  \n",
       "820       1 year          No       No  149990  3 stars                  0  \n",
       "821       1 year          No       No  142990  3 stars                  0  \n",
       "822  No warranty          No       No   57490  4 stars                 18  \n",
       "\n",
       "[823 rows x 18 columns]"
      ]
     },
     "execution_count": 25,
     "metadata": {},
     "output_type": "execute_result"
    }
   ],
   "source": [
    "dane = pd.read_csv('laptopPrice.csv')\n",
    "dane = dane.iloc[:, 0:18]\n",
    "dane.dropna()"
   ]
  },
  {
   "cell_type": "markdown",
   "id": "07aea8c8",
   "metadata": {},
   "source": [
    "## Przekształcenie danych kategorycznych nominalnych"
   ]
  },
  {
   "cell_type": "code",
   "execution_count": 26,
   "id": "7e9d7ad7",
   "metadata": {},
   "outputs": [],
   "source": [
    "nom = ['brand', 'processor_brand', 'processor_name', 'ram_type', 'os', 'weight', 'Touchscreen', 'msoffice']\n",
    "\n",
    "koder_nom = OneHotEncoder(handle_unknown='ignore', sparse_output=False).set_output(transform='pandas')\n",
    "zakod_kateg = koder_nom.fit_transform(dane[nom])\n",
    "\n",
    "zakod_dane = pd.DataFrame(zakod_kateg, columns=koder_nom.get_feature_names_out(nom))\n",
    "newDane = pd.concat([dane, zakod_dane], axis=1).drop(columns=nom)\n"
   ]
  },
  {
   "cell_type": "markdown",
   "id": "103cfba3",
   "metadata": {},
   "source": [
    "## Przekształcenie danych kategorycznych kolejnościowych"
   ]
  },
  {
   "cell_type": "code",
   "execution_count": 27,
   "id": "08e26b79",
   "metadata": {
    "scrolled": false
   },
   "outputs": [
    {
     "name": "stdout",
     "output_type": "stream",
     "text": [
      "<class 'pandas.core.frame.DataFrame'>\n",
      "RangeIndex: 823 entries, 0 to 822\n",
      "Data columns (total 48 columns):\n",
      " #   Column                       Non-Null Count  Dtype  \n",
      "---  ------                       --------------  -----  \n",
      " 0   processor_gnrtn              823 non-null    float64\n",
      " 1   ram_gb                       823 non-null    float64\n",
      " 2   ssd                          823 non-null    float64\n",
      " 3   hdd                          823 non-null    float64\n",
      " 4   os_bit                       823 non-null    float64\n",
      " 5   graphic_card_gb              823 non-null    float64\n",
      " 6   warranty                     823 non-null    float64\n",
      " 7   Price                        823 non-null    float64\n",
      " 8   rating                       823 non-null    float64\n",
      " 9   Number of Ratings            823 non-null    int64  \n",
      " 10  brand_APPLE                  823 non-null    float64\n",
      " 11  brand_ASUS                   823 non-null    float64\n",
      " 12  brand_Avita                  823 non-null    float64\n",
      " 13  brand_DELL                   823 non-null    float64\n",
      " 14  brand_HP                     823 non-null    float64\n",
      " 15  brand_Lenovo                 823 non-null    float64\n",
      " 16  brand_MSI                    823 non-null    float64\n",
      " 17  brand_acer                   823 non-null    float64\n",
      " 18  processor_brand_AMD          823 non-null    float64\n",
      " 19  processor_brand_Intel        823 non-null    float64\n",
      " 20  processor_brand_M1           823 non-null    float64\n",
      " 21  processor_name_Celeron Dual  823 non-null    float64\n",
      " 22  processor_name_Core i3       823 non-null    float64\n",
      " 23  processor_name_Core i5       823 non-null    float64\n",
      " 24  processor_name_Core i7       823 non-null    float64\n",
      " 25  processor_name_Core i9       823 non-null    float64\n",
      " 26  processor_name_M1            823 non-null    float64\n",
      " 27  processor_name_Pentium Quad  823 non-null    float64\n",
      " 28  processor_name_Ryzen 3       823 non-null    float64\n",
      " 29  processor_name_Ryzen 5       823 non-null    float64\n",
      " 30  processor_name_Ryzen 7       823 non-null    float64\n",
      " 31  processor_name_Ryzen 9       823 non-null    float64\n",
      " 32  ram_type_DDR3                823 non-null    float64\n",
      " 33  ram_type_DDR4                823 non-null    float64\n",
      " 34  ram_type_DDR5                823 non-null    float64\n",
      " 35  ram_type_LPDDR3              823 non-null    float64\n",
      " 36  ram_type_LPDDR4              823 non-null    float64\n",
      " 37  ram_type_LPDDR4X             823 non-null    float64\n",
      " 38  os_DOS                       823 non-null    float64\n",
      " 39  os_Mac                       823 non-null    float64\n",
      " 40  os_Windows                   823 non-null    float64\n",
      " 41  weight_Casual                823 non-null    float64\n",
      " 42  weight_Gaming                823 non-null    float64\n",
      " 43  weight_ThinNlight            823 non-null    float64\n",
      " 44  Touchscreen_No               823 non-null    float64\n",
      " 45  Touchscreen_Yes              823 non-null    float64\n",
      " 46  msoffice_No                  823 non-null    float64\n",
      " 47  msoffice_Yes                 823 non-null    float64\n",
      "dtypes: float64(47), int64(1)\n",
      "memory usage: 308.8 KB\n",
      "None\n"
     ]
    },
    {
     "name": "stderr",
     "output_type": "stream",
     "text": [
      "C:\\Users\\janma\\AppData\\Local\\Temp\\ipykernel_16192\\764416333.py:23: FutureWarning: Setting an item of incompatible dtype is deprecated and will raise an error in a future version of pandas. Value '1628.503' has dtype incompatible with int64, please explicitly cast to a compatible dtype first.\n",
      "  newDane.loc[i, 'Price'] *= 0.047\n"
     ]
    }
   ],
   "source": [
    "kol = ['processor_gnrtn', 'ram_gb', 'ssd', 'hdd', 'os_bit', 'graphic_card_gb', 'warranty', 'rating']\n",
    "\n",
    "# szybka funkcja do poprawnego sortowania numerycznego\n",
    "def sortkey(n):\n",
    "    i = 0\n",
    "    ret = \"\"\n",
    "    while i < len(n) and n[i].isnumeric():\n",
    "        ret += n[i]\n",
    "        i+=1\n",
    "    if ret == \"\" or ret == \"0\":\n",
    "        return 0\n",
    "    return math.log2(float(ret))\n",
    "\n",
    "\n",
    "for i in kol:\n",
    "    akt = sorted(newDane[i].unique(), key=sortkey)\n",
    "    koder_akt = OrdinalEncoder(categories= [akt])\n",
    "    newDane[i] = koder_akt.fit_transform(newDane[[i]])\n",
    "\n",
    "\n",
    "# konwersja inr -> pln\n",
    "for i in range(0, newDane.shape[0]):\n",
    "    newDane.loc[i, 'Price'] *= 0.047   \n",
    "\n",
    "print(newDane.info())"
   ]
  },
  {
   "cell_type": "markdown",
   "id": "d51fbfb5",
   "metadata": {},
   "source": [
    "## Old & useless\n"
   ]
  },
  {
   "cell_type": "code",
   "execution_count": 28,
   "id": "52f3121c",
   "metadata": {},
   "outputs": [],
   "source": [
    "# przypisywanie wartości liczbowych od 1 do N\n",
    "# poszczególnym wartościom kategorycznym (Intel -> 1, itp.)\n",
    "\n",
    "# tablica wszystkich etykiet - l'importante\n",
    "#etykiety = []\n",
    "\n",
    "#for i in kolumny:\n",
    "#    etykiety.append(pd.DataFrame(range(1, dane[i].unique().size + 1), index=np.sort(dane[i].unique())))\n",
    "\n",
    "\n",
    "#rating = pd.DataFrame(range(1, 6), index=['1 star', '2 stars', '3 stars', '4 stars', '5 stars']) # -> retarded way\n",
    "\n",
    "#newDane = pd.DataFrame.copy(dane)  #żeby zachować dane\n",
    "\n",
    "#for j in range(0, len(etykiety)):\n",
    "#    for i in range(0, newDane.shape[0]):\n",
    "#        newDane.iloc[i,j] = etykiety[j].loc[newDane.iloc[i,j], 0] \n",
    "\n",
    "\n",
    "#for i in range(0, newDane.shape[0]):\n",
    "#    newDane.iloc[i, 15] *= 0.047    # inr -> pln\n",
    "#    newDane.iloc[i, 16] = newDane.iloc[i, 16][0]    # usunięcie \"stars\"\n",
    "\n",
    "\n",
    "#print(etykiety)\n",
    "\n",
    "#print(dane.head(10))\n",
    "#print(\"======================================================================================================\")\n",
    "#print(newDane.head(10))\n",
    "\n",
    "#sns.pairplot(newDane, kind=\"scatter\", hue=\"brand\", palette=\"bright\")\n"
   ]
  },
  {
   "cell_type": "markdown",
   "id": "51c4d089",
   "metadata": {},
   "source": [
    "# Uczenie modelu"
   ]
  },
  {
   "cell_type": "markdown",
   "id": "3361faab",
   "metadata": {},
   "source": [
    "## Podział zbioru na uczący i testowy"
   ]
  },
  {
   "cell_type": "code",
   "execution_count": 29,
   "id": "d8c47ede",
   "metadata": {},
   "outputs": [],
   "source": [
    "#print(newDane.info())\n",
    "#print(newDane.head(1))\n",
    "#plt.figure(figsize=(20,20), dpi=20)\n",
    "#sns.pairplot(newDane, kind=\"scatter\", hue=\"brand\")\n",
    "\n",
    "#for i in range(16, 17):\n",
    " #   kolumny.append(dane.columns[i])\n",
    "\n",
    "\n",
    "X = newDane.drop(['Price'], axis=1)\n",
    "y = newDane['Price']\n",
    "\n",
    "X_train, X_test, y_train, y_test = train_test_split(X, y, test_size=0.2, random_state=10)\n",
    "\n",
    "# coś się popsuło, to naprawiło\n",
    "y_train = y_train.astype(int)\n",
    "y_test = y_test.astype(int)\n"
   ]
  },
  {
   "cell_type": "markdown",
   "id": "0f53b838",
   "metadata": {},
   "source": [
    "## Model & uczenie "
   ]
  },
  {
   "cell_type": "markdown",
   "id": "86c405d2",
   "metadata": {},
   "source": [
    "### Parametry"
   ]
  },
  {
   "cell_type": "code",
   "execution_count": 43,
   "id": "6f680d77",
   "metadata": {},
   "outputs": [],
   "source": [
    "param_grid_rf = {\n",
    "'n_estimators': [10, 50, 100, 500, 1000],\n",
    "'max_depth': [3, 5, 7, 9, 11, 13]\n",
    "}\n",
    "\n",
    "param_grid_gb = {\n",
    "'n_estimators': [10, 50, 100, 500, 750, 1000],\n",
    "'learning_rate': [0.0001, 0.001, 0.01, 0.1, 1.0],\n",
    "'max_depth': [3, 5, 7, 9],\n",
    "'min_samples_split': [5, 10, 20],\n",
    "'subsample': [0.2, 0.5, 0.7, 1]\n",
    "}\n",
    "\n",
    "param_grid_hgb = {\n",
    "'max_bins': [10, 20, 30, 40, 50, 100, 500],\n",
    "'learning_rate': [0.0001, 0.001, 0.01, 0.1, 1.0],\n",
    "'max_depth': [3, 5, 7, 9, 11, 13, 15]\n",
    "}\n",
    "\n",
    "param_grid_ab = {\n",
    "'n_estimators': [10, 20, 30, 40, 50, 60, 70, 80, 90, 100, 200, 300, 400, 500],\n",
    "'learning_rate': [0.0001, 0.001, 0.01, 0.1, 1.0]\n",
    "}\n",
    "\n",
    "param_grid_kn = {\n",
    "'n_neighbors': [5, 10, 15, 20, 50, 100],\n",
    "}\n",
    "\n",
    "# określanie parametrów zostało zakomentowane z uwagi na czas szukania parametrów"
   ]
  },
  {
   "cell_type": "markdown",
   "id": "27ec35dd",
   "metadata": {},
   "source": [
    "### Regresja  "
   ]
  },
  {
   "cell_type": "markdown",
   "id": "f1710079",
   "metadata": {},
   "source": [
    "#### Liniowa"
   ]
  },
  {
   "cell_type": "code",
   "execution_count": 31,
   "id": "0d0871bd",
   "metadata": {},
   "outputs": [
    {
     "name": "stdout",
     "output_type": "stream",
     "text": [
      "Błąd średniokwadratowy:  657.3614929103578\n",
      "Wynik:  0.7485690929345447\n"
     ]
    },
    {
     "data": {
      "text/plain": [
       "0.67089482928106"
      ]
     },
     "execution_count": 31,
     "metadata": {},
     "output_type": "execute_result"
    }
   ],
   "source": [
    "lin = LinearRegression()\n",
    "lin.fit(X_train, y_train)\n",
    "\n",
    "predPrice = lin.predict(X_test)\n",
    "\n",
    "print(\"Błąd średniokwadratowy: \", metrics.mean_absolute_error(y_test, predPrice))\n",
    "print(\"Wynik: \", lin.score(X_test, y_test))\n",
    "cross_val_score(lin, X_train, y_train, cv=3, n_jobs=-1).mean()"
   ]
  },
  {
   "cell_type": "markdown",
   "id": "c4fe1273",
   "metadata": {},
   "source": [
    "#### Random Forest"
   ]
  },
  {
   "cell_type": "markdown",
   "id": "b1d2b97e",
   "metadata": {},
   "source": [
    "##### Określenie parametrów"
   ]
  },
  {
   "cell_type": "code",
   "execution_count": 32,
   "id": "a3d1c671",
   "metadata": {},
   "outputs": [],
   "source": [
    "#rfr = RandomForestRegressor()\n",
    "\n",
    "#rfr2 = GridSearchCV(rfr, param_grid_rf, cv=3, n_jobs=-1)\n",
    "#rfr2.fit(X_train, y_train)\n",
    "\n",
    "#rfr2.best_params_"
   ]
  },
  {
   "cell_type": "markdown",
   "id": "dd2ed6df",
   "metadata": {},
   "source": [
    "##### Model"
   ]
  },
  {
   "cell_type": "code",
   "execution_count": 33,
   "id": "9b119fad",
   "metadata": {},
   "outputs": [
    {
     "name": "stdout",
     "output_type": "stream",
     "text": [
      "Błąd średniokwadratowy:  541.3147911224456\n",
      "Wynik:  0.8284891756763466\n"
     ]
    },
    {
     "data": {
      "text/plain": [
       "0.7238780119196427"
      ]
     },
     "execution_count": 33,
     "metadata": {},
     "output_type": "execute_result"
    }
   ],
   "source": [
    "rfr = RandomForestRegressor(n_estimators=50, max_depth=13)\n",
    "rfr.fit(X_train, y_train)\n",
    "\n",
    "predPrice = rfr.predict(X_test)\n",
    "\n",
    "print(\"Błąd średniokwadratowy: \", metrics.mean_absolute_error(y_test, predPrice))\n",
    "print(\"Wynik: \", rfr.score(X_test, y_test))\n",
    "cross_val_score(rfr, X_train, y_train, cv=3, n_jobs=-1).mean()\n",
    "\n"
   ]
  },
  {
   "cell_type": "markdown",
   "id": "1e41b479",
   "metadata": {},
   "source": [
    "#### Gradient Boosting"
   ]
  },
  {
   "cell_type": "markdown",
   "id": "c49d8db6",
   "metadata": {},
   "source": [
    "##### Określanie parametrów"
   ]
  },
  {
   "cell_type": "code",
   "execution_count": 34,
   "id": "db3c218d",
   "metadata": {},
   "outputs": [],
   "source": [
    "#gbr = GradientBoostingRegressor()\n",
    "\n",
    "#gbr2 = GridSearchCV(gbr, param_grid_gb, cv=3, n_jobs=-1)\n",
    "#gbr2.fit(X_train, y_train)\n",
    "\n",
    "#gbr2.best_params_\n"
   ]
  },
  {
   "cell_type": "markdown",
   "id": "6fe7155c",
   "metadata": {},
   "source": [
    "##### Model"
   ]
  },
  {
   "cell_type": "code",
   "execution_count": 35,
   "id": "eb6ad04a",
   "metadata": {},
   "outputs": [
    {
     "name": "stdout",
     "output_type": "stream",
     "text": [
      "Błąd średniokwadratowy:  502.3822939074286\n",
      "Wynik:  0.8500138716594807\n"
     ]
    },
    {
     "data": {
      "text/plain": [
       "0.759641175125826"
      ]
     },
     "execution_count": 35,
     "metadata": {},
     "output_type": "execute_result"
    }
   ],
   "source": [
    "gbr = GradientBoostingRegressor(n_estimators=1000, max_depth=9, learning_rate=0.01, \\\n",
    "                                min_samples_split=25, min_samples_leaf=2, subsample=0.5, \\\n",
    "                                min_weight_fraction_leaf= 0.0)\n",
    "gbr.fit(X_train, y_train)\n",
    "\n",
    "predPrice = gbr.predict(X_test)\n",
    "\n",
    "print(\"Błąd średniokwadratowy: \", metrics.mean_absolute_error(y_test, predPrice))\n",
    "print(\"Wynik: \", gbr.score(X_test, y_test))\n",
    "cross_val_score(gbr, X_train, y_train, cv=3, n_jobs=-1).mean()"
   ]
  },
  {
   "cell_type": "markdown",
   "id": "859eda9b",
   "metadata": {},
   "source": [
    "#### Hist Gradient Boosting"
   ]
  },
  {
   "cell_type": "code",
   "execution_count": 36,
   "id": "557f3000",
   "metadata": {},
   "outputs": [],
   "source": [
    "#hgbr = HistGradientBoostingRegressor()\n",
    "\n",
    "#hgbr2 = GridSearchCV(hgbr, param_grid_hgb, cv=3, n_jobs=-1)\n",
    "#hgbr2.fit(X_train, y_train)\n",
    "\n",
    "#hgbr2.best_params_"
   ]
  },
  {
   "cell_type": "code",
   "execution_count": 37,
   "id": "099ca50d",
   "metadata": {},
   "outputs": [
    {
     "name": "stdout",
     "output_type": "stream",
     "text": [
      "Błąd średniokwadratowy:  611.5645191643731\n",
      "Wynik:  0.7752832195150872\n"
     ]
    },
    {
     "data": {
      "text/plain": [
       "0.6911487525086529"
      ]
     },
     "execution_count": 37,
     "metadata": {},
     "output_type": "execute_result"
    }
   ],
   "source": [
    "hgbr = HistGradientBoostingRegressor(learning_rate=0.1, max_depth=5, max_bins=50)\n",
    "hgbr.fit(X_train, y_train)\n",
    "\n",
    "predPrice = hgbr.predict(X_test)\n",
    "\n",
    "print(\"Błąd średniokwadratowy: \", metrics.mean_absolute_error(y_test, predPrice))\n",
    "print(\"Wynik: \", hgbr.score(X_test, y_test))\n",
    "cross_val_score(hgbr, X_train, y_train, cv=3, n_jobs=-1).mean()\n",
    "\n"
   ]
  },
  {
   "cell_type": "markdown",
   "id": "1ff6945a",
   "metadata": {},
   "source": [
    "#### Ada Boosting - weird"
   ]
  },
  {
   "cell_type": "markdown",
   "id": "9aef68d0",
   "metadata": {},
   "source": [
    "#####  Określenie parametrów\n"
   ]
  },
  {
   "cell_type": "code",
   "execution_count": 38,
   "id": "96fe4b01",
   "metadata": {},
   "outputs": [],
   "source": [
    "#ada = AdaBoostRegressor()\n",
    "\n",
    "#ada2 = GridSearchCV(ada, param_grid_ab, cv=3, n_jobs=-1)\n",
    "#ada2.fit(X_train, y_train)\n",
    "\n",
    "#ada2.best_estimator_"
   ]
  },
  {
   "cell_type": "markdown",
   "id": "f3aa5151",
   "metadata": {},
   "source": [
    "##### Uczenie\n"
   ]
  },
  {
   "cell_type": "code",
   "execution_count": 39,
   "id": "41f4789f",
   "metadata": {},
   "outputs": [
    {
     "name": "stdout",
     "output_type": "stream",
     "text": [
      "Błąd średniokwadratowy:  1022.8010015189238\n",
      "Wynik:  0.6098912004837571\n"
     ]
    },
    {
     "data": {
      "text/plain": [
       "0.5425556742336789"
      ]
     },
     "execution_count": 39,
     "metadata": {},
     "output_type": "execute_result"
    }
   ],
   "source": [
    "ada = AdaBoostRegressor(n_estimators=1000, learning_rate=0.01)\n",
    "ada.fit(X_train, y_train)\n",
    "\n",
    "predPrice = ada.predict(X_test)\n",
    "\n",
    "print(\"Błąd średniokwadratowy: \", metrics.mean_absolute_error(y_test, predPrice))\n",
    "print(\"Wynik: \", ada.score(X_test, y_test))\n",
    "cross_val_score(ada, X_train, y_train, cv=3, n_jobs=-1).mean()"
   ]
  },
  {
   "cell_type": "markdown",
   "id": "c31750e2",
   "metadata": {},
   "source": [
    "### Klasyfikacja - generalnie raczej nie\n"
   ]
  },
  {
   "cell_type": "markdown",
   "id": "2dde6c6b",
   "metadata": {},
   "source": [
    "#### Centroidy"
   ]
  },
  {
   "cell_type": "code",
   "execution_count": 40,
   "id": "8ee87c95",
   "metadata": {},
   "outputs": [
    {
     "name": "stdout",
     "output_type": "stream",
     "text": [
      "Błąd średniokwadratowy:  1022.8010015189238\n"
     ]
    },
    {
     "name": "stderr",
     "output_type": "stream",
     "text": [
      "c:\\Users\\janma\\AppData\\Local\\Programs\\Python\\Python312\\Lib\\site-packages\\sklearn\\model_selection\\_split.py:776: UserWarning: The least populated class in y has only 1 members, which is less than n_splits=3.\n",
      "  warnings.warn(\n"
     ]
    },
    {
     "data": {
      "text/plain": [
       "0.015206863152068631"
      ]
     },
     "execution_count": 40,
     "metadata": {},
     "output_type": "execute_result"
    }
   ],
   "source": [
    "mnp = NearestCentroid()\n",
    "mnp.fit(X_train, y_train)\n",
    "\n",
    "pred = mnp.predict(X_test)\n",
    "\n",
    "print(\"Błąd średniokwadratowy: \", metrics.mean_absolute_error(y_test, predPrice))\n",
    "cross_val_score(mnp, X_train, y_train, cv=3, n_jobs=-1).mean()\n",
    "\n"
   ]
  },
  {
   "cell_type": "markdown",
   "id": "aa80a215",
   "metadata": {},
   "source": [
    "#### KNN"
   ]
  },
  {
   "cell_type": "code",
   "execution_count": 49,
   "id": "4421c8c1",
   "metadata": {},
   "outputs": [
    {
     "name": "stderr",
     "output_type": "stream",
     "text": [
      "c:\\Users\\janma\\AppData\\Local\\Programs\\Python\\Python312\\Lib\\site-packages\\sklearn\\model_selection\\_split.py:776: UserWarning: The least populated class in y has only 1 members, which is less than n_splits=3.\n",
      "  warnings.warn(\n"
     ]
    },
    {
     "data": {
      "text/plain": [
       "{'n_neighbors': 10}"
      ]
     },
     "execution_count": 49,
     "metadata": {},
     "output_type": "execute_result"
    }
   ],
   "source": [
    "knn = KNeighborsClassifier(n_neighbors=10)\n",
    "\n",
    "knnn = GridSearchCV(knn, param_grid_kn, cv=3, n_jobs=-1)\n",
    "knnn.fit(X_train, y_train)\n",
    "\n",
    "knnn.best_params_"
   ]
  },
  {
   "cell_type": "code",
   "execution_count": 52,
   "id": "e31669c0",
   "metadata": {},
   "outputs": [
    {
     "name": "stdout",
     "output_type": "stream",
     "text": [
      "Błąd średniokwadratowy:  1417.0424242424242\n"
     ]
    },
    {
     "name": "stderr",
     "output_type": "stream",
     "text": [
      "c:\\Users\\janma\\AppData\\Local\\Programs\\Python\\Python312\\Lib\\site-packages\\sklearn\\model_selection\\_split.py:776: UserWarning: The least populated class in y has only 1 members, which is less than n_splits=3.\n",
      "  warnings.warn(\n"
     ]
    },
    {
     "data": {
      "text/plain": [
       "0.02127438771274388"
      ]
     },
     "execution_count": 52,
     "metadata": {},
     "output_type": "execute_result"
    }
   ],
   "source": [
    "knn = KNeighborsClassifier(n_neighbors=10)\n",
    "knn.fit(X_train, y_train)\n",
    "\n",
    "pred = knn.predict(X_test)\n",
    "\n",
    "print(\"Błąd średniokwadratowy: \", metrics.mean_absolute_error(y_test, pred))\n",
    "cross_val_score(knn, X_train, y_train, cv=3, n_jobs=-1).mean()"
   ]
  },
  {
   "cell_type": "markdown",
   "id": "f9fa9136",
   "metadata": {},
   "source": [
    "#### Random Forest\n"
   ]
  },
  {
   "cell_type": "markdown",
   "id": "e7185603",
   "metadata": {},
   "source": [
    "##### Określenie parametrów"
   ]
  },
  {
   "cell_type": "code",
   "execution_count": 16,
   "id": "e03ebf36",
   "metadata": {},
   "outputs": [],
   "source": [
    "#rfc = RandomForestClassifier()\n",
    "\n",
    "#rfc2 = GridSearchCV(rfc, param_grid_rf, cv=3)\n",
    "#rfc2.fit(X_train, y_train)\n",
    "\n",
    "#rfc2.best_params_"
   ]
  },
  {
   "cell_type": "code",
   "execution_count": 19,
   "id": "36772027",
   "metadata": {},
   "outputs": [
    {
     "name": "stdout",
     "output_type": "stream",
     "text": [
      "Błąd średniokwadratowy:  691.8545454545455\n"
     ]
    },
    {
     "name": "stderr",
     "output_type": "stream",
     "text": [
      "c:\\Users\\janma\\AppData\\Local\\Programs\\Python\\Python312\\Lib\\site-packages\\sklearn\\model_selection\\_split.py:776: UserWarning: The least populated class in y has only 1 members, which is less than n_splits=3.\n",
      "  warnings.warn(\n"
     ]
    },
    {
     "data": {
      "text/plain": [
       "0.08054517780545177"
      ]
     },
     "execution_count": 19,
     "metadata": {},
     "output_type": "execute_result"
    }
   ],
   "source": [
    "rfc = RandomForestClassifier(max_depth=7, n_estimators=50)\n",
    "rfc.fit(X_train, y_train)\n",
    "\n",
    "predPrice = rfc.predict(X_test)\n",
    "\n",
    "print(\"Błąd średniokwadratowy: \", metrics.mean_absolute_error(y_test, predPrice))\n",
    "cross_val_score(rfc, X_train, y_train, cv=3, n_jobs=-1).mean()"
   ]
  },
  {
   "cell_type": "markdown",
   "metadata": {},
   "source": [
    "#### Gradient Boosting - jeszcze średniej"
   ]
  },
  {
   "cell_type": "markdown",
   "id": "02eff444",
   "metadata": {},
   "source": [
    "##### Params"
   ]
  },
  {
   "cell_type": "code",
   "execution_count": 18,
   "id": "4dd5d934",
   "metadata": {},
   "outputs": [],
   "source": [
    "#gbc = GradientBoostingClassifier()\n",
    "#gbc2 = GridSearchCV(gbc, param_grid_gb, cv=3, n_jobs=-1)\n",
    "#gbc2.fit(X_train, y_train)\n",
    "#gbc2.best_params_"
   ]
  },
  {
   "cell_type": "code",
   "execution_count": 21,
   "id": "b52880ec",
   "metadata": {},
   "outputs": [
    {
     "name": "stdout",
     "output_type": "stream",
     "text": [
      "Błąd średniokwadratowy:  1541.430303030303\n"
     ]
    },
    {
     "name": "stderr",
     "output_type": "stream",
     "text": [
      "c:\\Users\\janma\\AppData\\Local\\Programs\\Python\\Python312\\Lib\\site-packages\\sklearn\\model_selection\\_split.py:776: UserWarning: The least populated class in y has only 1 members, which is less than n_splits=3.\n",
      "  warnings.warn(\n"
     ]
    },
    {
     "data": {
      "text/plain": [
       "0.05624740556247406"
      ]
     },
     "execution_count": 21,
     "metadata": {},
     "output_type": "execute_result"
    }
   ],
   "source": [
    "gbc = GradientBoostingClassifier(n_estimators=50, max_depth=3, learning_rate=0.1)\n",
    "gbc.fit(X_train, y_train)\n",
    "\n",
    "predPrice = gbc.predict(X_test)\n",
    "\n",
    "print(\"Błąd średniokwadratowy: \", metrics.mean_absolute_error(y_test, predPrice))\n",
    "cross_val_score(gbc, X_train, y_train, cv=3, n_jobs=-1).mean()"
   ]
  },
  {
   "cell_type": "markdown",
   "id": "bf716d9a",
   "metadata": {},
   "source": [
    "#### Ada Boosting"
   ]
  },
  {
   "cell_type": "markdown",
   "id": "ac071336",
   "metadata": {},
   "source": [
    "##### Params"
   ]
  },
  {
   "cell_type": "code",
   "execution_count": 20,
   "id": "c6a04195",
   "metadata": {},
   "outputs": [],
   "source": [
    "#adc = AdaBoostClassifier()\n",
    "\n",
    "#adc2 = GridSearchCV(adc, param_grid_ab, cv=3, n_jobs=-1)\n",
    "#adc2.fit(X_train, y_train)\n",
    "\n",
    "#adc2.best_estimator_"
   ]
  },
  {
   "cell_type": "code",
   "execution_count": 53,
   "id": "93f0050a",
   "metadata": {},
   "outputs": [
    {
     "name": "stderr",
     "output_type": "stream",
     "text": [
      "c:\\Users\\janma\\AppData\\Local\\Programs\\Python\\Python312\\Lib\\site-packages\\sklearn\\ensemble\\_weight_boosting.py:527: FutureWarning: The SAMME.R algorithm (the default) is deprecated and will be removed in 1.6. Use the SAMME algorithm to circumvent this warning.\n",
      "  warnings.warn(\n"
     ]
    },
    {
     "name": "stdout",
     "output_type": "stream",
     "text": [
      "Błąd średniokwadratowy:  922.5454545454545\n"
     ]
    },
    {
     "name": "stderr",
     "output_type": "stream",
     "text": [
      "c:\\Users\\janma\\AppData\\Local\\Programs\\Python\\Python312\\Lib\\site-packages\\sklearn\\model_selection\\_split.py:776: UserWarning: The least populated class in y has only 1 members, which is less than n_splits=3.\n",
      "  warnings.warn(\n"
     ]
    },
    {
     "data": {
      "text/plain": [
       "0.0684032101840321"
      ]
     },
     "execution_count": 53,
     "metadata": {},
     "output_type": "execute_result"
    }
   ],
   "source": [
    "adc = AdaBoostClassifier(n_estimators=80, learning_rate=0.01)\n",
    "adc.fit(X_train, y_train)\n",
    "\n",
    "predPrice = adc.predict(X_test)\n",
    "\n",
    "print(\"Błąd średniokwadratowy: \", metrics.mean_absolute_error(y_test, predPrice))\n",
    "cross_val_score(adc, X_train, y_train, cv=3, n_jobs=-1).mean()"
   ]
  },
  {
   "cell_type": "markdown",
   "id": "90a021e3",
   "metadata": {},
   "source": [
    "## Regresja z Wektorem Wspomagającym (SVR)"
   ]
  },
  {
   "cell_type": "code",
   "execution_count": 22,
   "id": "926a6408",
   "metadata": {},
   "outputs": [
    {
     "name": "stdout",
     "output_type": "stream",
     "text": [
      "Błąd średniokwadratowy:  850.1885487270106\n",
      "Wynik:  0.5703197481973153\n"
     ]
    },
    {
     "data": {
      "text/plain": [
       "0.5470052599240683"
      ]
     },
     "execution_count": 22,
     "metadata": {},
     "output_type": "execute_result"
    }
   ],
   "source": [
    "clf = svm.SVR(kernel='rbf', C=5000,  gamma='auto')\n",
    "clf.fit(X_train, y_train)\n",
    "\n",
    "predPrice = clf.predict(X_test)\n",
    "\n",
    "print(\"Błąd średniokwadratowy: \", metrics.mean_absolute_error(y_test, predPrice))\n",
    "print(\"Wynik: \", clf.score(X_test, y_test))\n",
    "cross_val_score(clf, X_train, y_train, cv=3, n_jobs=-1).mean()"
   ]
  },
  {
   "cell_type": "markdown",
   "id": "9e56ea4e",
   "metadata": {},
   "source": [
    "## Ridge"
   ]
  },
  {
   "cell_type": "code",
   "execution_count": 23,
   "id": "41a92d60",
   "metadata": {},
   "outputs": [
    {
     "name": "stdout",
     "output_type": "stream",
     "text": [
      "Błąd średniokwadratowy:  657.5663222406878\n",
      "Wynik:  0.7486206183373838\n"
     ]
    },
    {
     "data": {
      "text/plain": [
       "0.6709119768715904"
      ]
     },
     "execution_count": 23,
     "metadata": {},
     "output_type": "execute_result"
    }
   ],
   "source": [
    "clf = Ridge(alpha = 0.01)\n",
    "clf.fit(X_train, y_train)\n",
    "\n",
    "predPrice = clf.predict(X_test)\n",
    "\n",
    "print(\"Błąd średniokwadratowy: \", metrics.mean_absolute_error(y_test, predPrice))\n",
    "print(\"Wynik: \", clf.score(X_test, y_test))\n",
    "cross_val_score(clf, X_train, y_train, cv=3, n_jobs=-1).mean()"
   ]
  },
  {
   "cell_type": "markdown",
   "id": "ab951d83",
   "metadata": {},
   "source": [
    "## Lasso"
   ]
  },
  {
   "cell_type": "code",
   "execution_count": 24,
   "id": "36944acd",
   "metadata": {},
   "outputs": [
    {
     "name": "stdout",
     "output_type": "stream",
     "text": [
      "Błąd średniokwadratowy:  657.7208865221669\n",
      "Wynik:  0.7487364657175168\n"
     ]
    },
    {
     "name": "stderr",
     "output_type": "stream",
     "text": [
      "c:\\Users\\janma\\AppData\\Local\\Programs\\Python\\Python312\\Lib\\site-packages\\sklearn\\linear_model\\_coordinate_descent.py:697: ConvergenceWarning: Objective did not converge. You might want to increase the number of iterations, check the scale of the features or consider increasing regularisation. Duality gap: 3.443e+08, tolerance: 2.968e+05\n",
      "  model = cd_fast.enet_coordinate_descent(\n"
     ]
    },
    {
     "data": {
      "text/plain": [
       "0.6714885820665343"
      ]
     },
     "execution_count": 24,
     "metadata": {},
     "output_type": "execute_result"
    }
   ],
   "source": [
    "clf = Lasso(alpha=0.2, selection='random')\n",
    "clf.fit(X_train, y_train)\n",
    "\n",
    "predPrice = clf.predict(X_test)\n",
    "\n",
    "print(\"Błąd średniokwadratowy: \", metrics.mean_absolute_error(y_test, predPrice))\n",
    "print(\"Wynik: \", clf.score(X_test, y_test))\n",
    "cross_val_score(clf, X_train, y_train, cv=3, n_jobs=-1).mean()"
   ]
  },
  {
   "cell_type": "markdown",
   "id": "a56ee579",
   "metadata": {},
   "source": [
    "## ElasticNet"
   ]
  },
  {
   "cell_type": "code",
   "execution_count": 25,
   "id": "35e6be1e",
   "metadata": {},
   "outputs": [
    {
     "name": "stdout",
     "output_type": "stream",
     "text": [
      "Błąd średniokwadratowy:  657.6821045549036\n",
      "Wynik:  0.7487296164926212\n"
     ]
    },
    {
     "data": {
      "text/plain": [
       "0.6714814289063448"
      ]
     },
     "execution_count": 25,
     "metadata": {},
     "output_type": "execute_result"
    }
   ],
   "source": [
    "clf = ElasticNet(alpha=0.2, l1_ratio=1)\n",
    "clf.fit(X_train, y_train)\n",
    "\n",
    "predPrice = clf.predict(X_test)\n",
    "\n",
    "print(\"Błąd średniokwadratowy: \", metrics.mean_absolute_error(y_test, predPrice))\n",
    "print(\"Wynik: \", clf.score(X_test, y_test))\n",
    "cross_val_score(clf, X_train, y_train, cv=3, n_jobs=-1).mean()"
   ]
  }
 ],
 "metadata": {
  "kernelspec": {
   "display_name": "Python 3 (ipykernel)",
   "language": "python",
   "name": "python3"
  },
  "language_info": {
   "codemirror_mode": {
    "name": "ipython",
    "version": 3
   },
   "file_extension": ".py",
   "mimetype": "text/x-python",
   "name": "python",
   "nbconvert_exporter": "python",
   "pygments_lexer": "ipython3",
   "version": "3.12.3"
  }
 },
 "nbformat": 4,
 "nbformat_minor": 5
}
